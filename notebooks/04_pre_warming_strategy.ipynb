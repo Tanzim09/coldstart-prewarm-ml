{
 "cells": [
  {
   "cell_type": "code",
   "execution_count": 1,
   "id": "5805907a-575b-48f1-8b88-3f348615f1d3",
   "metadata": {},
   "outputs": [],
   "source": [
    "import pandas as pd\n",
    "import numpy as np\n",
    "import matplotlib.pyplot as plt\n",
    "import seaborn as sns\n",
    "import joblib\n",
    "from sklearn.metrics import confusion_matrix\n",
    "from sklearn.preprocessing import StandardScaler"
   ]
  },
  {
   "cell_type": "code",
   "execution_count": 2,
   "id": "d7407705-de06-4735-a987-8a247cc5e2ef",
   "metadata": {},
   "outputs": [
    {
     "name": "stdout",
     "output_type": "stream",
     "text": [
      "\n",
      "📥 Loading data\n"
     ]
    }
   ],
   "source": [
    "df = pd.read_csv(\"../data/clean_data.csv\")\n",
    "cluster_df = pd.read_csv(\"../data/clustered_time_patterns.csv\")"
   ]
  },
  {
   "cell_type": "code",
   "execution_count": 3,
   "id": "56468ba6-7b33-47b6-9d31-6fee79d8dd7a",
   "metadata": {},
   "outputs": [],
   "source": [
    "if 'time_bucket' in df.columns and 'time_bucket' in cluster_df.columns:\n",
    "    df = df.merge(cluster_df[['hour', 'dayofweek', 'time_bucket', 'cluster', 'cold_start_ratio', 'total_invocations']],\n",
    "                  on=['hour', 'dayofweek', 'time_bucket'], how='left')\n",
    "else:\n",
    "    df = df.merge(cluster_df[['hour', 'dayofweek', 'cluster', 'cold_start_ratio', 'total_invocations']],\n",
    "                  on=['hour', 'dayofweek'], how='left')"
   ]
  },
  {
   "cell_type": "code",
   "execution_count": 4,
   "id": "5e71a1a8-17cc-4d1f-8e8e-6cc48471d8c5",
   "metadata": {},
   "outputs": [
    {
     "name": "stdout",
     "output_type": "stream",
     "text": [
      "\n",
      "🔍 Loading trained models\n"
     ]
    }
   ],
   "source": [
    "clf = joblib.load(\"../models/cold_start_classifier.pkl\")\n",
    "reg = joblib.load(\"../models/delay_predictor.pkl\")"
   ]
  },
  {
   "cell_type": "code",
   "execution_count": 5,
   "id": "d49462e0-ae67-4bb6-85bd-797a4c891706",
   "metadata": {},
   "outputs": [
    {
     "name": "stdout",
     "output_type": "stream",
     "text": [
      "\n",
      "⚙️ Running Inference\n"
     ]
    }
   ],
   "source": [
    "print(\"\\n⚙️ Running Inference\")\n",
    "clf_features = ['hour', 'dayofweek', 'is_weekend', 'cluster']\n",
    "reg_features = ['cold_start_ratio', 'total_invocations', 'cluster', 'anomaly_flag', 'cold_start_prob_est']"
   ]
  },
  {
   "cell_type": "code",
   "execution_count": 6,
   "id": "e8b20e40-84f4-4034-b98c-b728aa5ffbcb",
   "metadata": {},
   "outputs": [],
   "source": [
    "missing_clf = [f for f in clf_features if f not in df.columns]\n",
    "missing_reg = [f for f in reg_features if f not in df.columns]\n",
    "if missing_clf:\n",
    "    raise ValueError(f\"Missing classification features: {missing_clf}\")\n",
    "if missing_reg:\n",
    "    raise ValueError(f\"Missing regression features: {missing_reg}\")"
   ]
  },
  {
   "cell_type": "code",
   "execution_count": 7,
   "id": "f9e7aaa4-164f-4e04-981d-7d9e5911e766",
   "metadata": {},
   "outputs": [],
   "source": [
    "df['cold_start_proba'] = clf.predict_proba(df[clf_features])[:, 1]"
   ]
  },
  {
   "cell_type": "code",
   "execution_count": 8,
   "id": "18293613-51e2-40f8-bc81-df725864ba1a",
   "metadata": {},
   "outputs": [],
   "source": [
    "if 'cold_start_prob_est' not in df.columns:\n",
    "    df['cold_start_prob_est'] = df['cold_start_proba']"
   ]
  },
  {
   "cell_type": "code",
   "execution_count": 9,
   "id": "4c22cf86-80fe-4ff3-963c-c4b0d5edfde7",
   "metadata": {},
   "outputs": [],
   "source": [
    "df['predicted_delay'] = reg.predict(df[reg_features])\n"
   ]
  },
  {
   "cell_type": "code",
   "execution_count": 10,
   "id": "a9b6dca0-0982-4c59-a5ba-53c1e42b39ae",
   "metadata": {},
   "outputs": [
    {
     "name": "stdout",
     "output_type": "stream",
     "text": [
      "\n",
      "🔥 Smart Prewarming Decision Logic\n"
     ]
    }
   ],
   "source": [
    "def smart_prewarm(prob, delay, prob_thresh=0.6, delay_thresh=400):\n",
    "    return int(prob > prob_thresh or delay > delay_thresh)\n",
    "df['prewarm'] = df.apply(lambda row: smart_prewarm(row['cold_start_proba'], row['predicted_delay']), axis=1)"
   ]
  },
  {
   "cell_type": "code",
   "execution_count": 11,
   "id": "e305fe9d-8705-4e77-a9b2-2a13617c386b",
   "metadata": {},
   "outputs": [],
   "source": [
    "cold_start_penalty = 0.005  # $/second of cold start delay\n",
    "prewarm_cost = 0.002        # $ per prewarm action\n",
    "df['cold_start_cost'] = df['Cold_Start'] * df['Delay (s)'] * cold_start_penalty\n",
    "df['prewarm_cost'] = df['prewarm'] * prewarm_cost\n",
    "df['net_savings'] = df['cold_start_cost'] - df['prewarm_cost']"
   ]
  },
  {
   "cell_type": "code",
   "execution_count": 12,
   "id": "20fa58f1-e142-4443-a438-c4368fcf1375",
   "metadata": {},
   "outputs": [],
   "source": [
    "total = len(df)\n",
    "actual_cold_starts = df['Cold_Start'].sum()\n",
    "predicted_cold_starts = (df['cold_start_proba'] > 0.6).sum()\n",
    "prewarm_actions = df['prewarm'].sum()\n",
    "total_cold_cost = df['cold_start_cost'].sum()\n",
    "total_prewarm_cost = df['prewarm_cost'].sum()\n",
    "total_savings = df['net_savings'].sum()"
   ]
  },
  {
   "cell_type": "code",
   "execution_count": 13,
   "id": "0d0c2449-fd8e-46ac-be6b-3297c49dd7b3",
   "metadata": {},
   "outputs": [
    {
     "name": "stdout",
     "output_type": "stream",
     "text": [
      "=== Summary ===\n",
      "Total Requests: 10630\n",
      "Actual Cold Starts: 317\n",
      "Predicted Cold Starts (>60% prob): 36\n",
      "Prewarming Actions Taken: 360\n",
      "Total Cold Start Cost: $1585.22\n",
      "Total Prewarming Cost: $0.72\n",
      "Net Cost Savings: $1584.51\n"
     ]
    }
   ],
   "source": [
    "print(\"=== Summary ===\")\n",
    "print(f\"Total Requests: {total}\")\n",
    "print(f\"Actual Cold Starts: {actual_cold_starts}\")\n",
    "print(f\"Predicted Cold Starts (>60% prob): {predicted_cold_starts}\")\n",
    "print(f\"Prewarming Actions Taken: {prewarm_actions}\")\n",
    "print(f\"Total Cold Start Cost: ${total_cold_cost:.2f}\")\n",
    "print(f\"Total Prewarming Cost: ${total_prewarm_cost:.2f}\")\n",
    "print(f\"Net Cost Savings: ${total_savings:.2f}\")"
   ]
  }
 ],
 "metadata": {
  "kernelspec": {
   "display_name": "Python [conda env:base] *",
   "language": "python",
   "name": "conda-base-py"
  },
  "language_info": {
   "codemirror_mode": {
    "name": "ipython",
    "version": 3
   },
   "file_extension": ".py",
   "mimetype": "text/x-python",
   "name": "python",
   "nbconvert_exporter": "python",
   "pygments_lexer": "ipython3",
   "version": "3.12.7"
  }
 },
 "nbformat": 4,
 "nbformat_minor": 5
}
