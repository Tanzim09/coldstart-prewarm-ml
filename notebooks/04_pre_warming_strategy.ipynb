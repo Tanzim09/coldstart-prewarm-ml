{
 "cells": [
  {
   "cell_type": "code",
   "execution_count": 1,
   "id": "40eee49a-e26e-4b6b-a550-39fa27a13c54",
   "metadata": {},
   "outputs": [],
   "source": [
    "import pandas as pd\n",
    "import joblib\n",
    "import numpy as np"
   ]
  },
  {
   "cell_type": "code",
   "execution_count": 2,
   "id": "8d0d8f13-f5e7-4b0a-9f08-c44d857099ab",
   "metadata": {},
   "outputs": [],
   "source": [
    "# Load clean data and models\n",
    "df = pd.read_csv('../data/clean_data.csv')\n",
    "cluster_df = pd.read_csv('../data/clustered_time_patterns.csv')"
   ]
  },
  {
   "cell_type": "code",
   "execution_count": 3,
   "id": "c3df8ee3-61ad-483e-92ef-97d1aeccd8d0",
   "metadata": {},
   "outputs": [],
   "source": [
    "# Merge cluster info\n",
    "df = df.merge(cluster_df[['hour', 'dayofweek', 'time_bucket', 'cluster']],\n",
    "              on=['hour', 'dayofweek', 'time_bucket'], how='left')"
   ]
  },
  {
   "cell_type": "code",
   "execution_count": 4,
   "id": "c8692322-caa0-4b7f-8e4a-cd04a8aa3a3c",
   "metadata": {},
   "outputs": [],
   "source": [
    "# Load trained models\n",
    "clf = joblib.load('../models/cold_start_classifier.pkl')\n",
    "reg = joblib.load('../models/delay_predictor.pkl')"
   ]
  },
  {
   "cell_type": "code",
   "execution_count": 5,
   "id": "f0fd0ac4-03cc-471e-83d1-0c89c5c4f952",
   "metadata": {},
   "outputs": [],
   "source": [
    "# Prepare features\n",
    "features = ['hour', 'dayofweek', 'is_weekend', 'cluster']\n",
    "X = df[features]"
   ]
  },
  {
   "cell_type": "code",
   "execution_count": 6,
   "id": "2005b8f0-58d7-4c9d-bfc4-e72d79ecf36c",
   "metadata": {},
   "outputs": [],
   "source": [
    "# Predict probabilities and delay\n",
    "df['cold_start_proba'] = clf.predict_proba(X)[:, 1]\n",
    "df['predicted_delay'] = reg.predict(X)\n"
   ]
  },
  {
   "cell_type": "code",
   "execution_count": 7,
   "id": "40e57ec7-250f-4212-bd3d-f73de346dbf3",
   "metadata": {},
   "outputs": [],
   "source": [
    "# Smart decision using probability + delay threshold\n",
    "def smart_prewarm(prob, delay, prob_thresh=0.6, delay_thresh=300):\n",
    "    return int(prob > prob_thresh or delay > delay_thresh)\n"
   ]
  },
  {
   "cell_type": "code",
   "execution_count": 8,
   "id": "3a808a57-c650-4c22-94e2-cb26e2dc98ef",
   "metadata": {},
   "outputs": [],
   "source": [
    "df['prewarm_decision'] = df.apply(lambda row: smart_prewarm(row['cold_start_proba'], row['predicted_delay']), axis=1)"
   ]
  },
  {
   "cell_type": "code",
   "execution_count": 9,
   "id": "b9a8532f-d3df-4fdd-a84d-70ac56a4bb9d",
   "metadata": {},
   "outputs": [],
   "source": [
    "# --- Cost Simulation ---\n",
    "cold_start_penalty = 0.005  # $/second of cold start delay\n",
    "prewarm_cost = 0.002        # $ per prewarm action"
   ]
  },
  {
   "cell_type": "code",
   "execution_count": 10,
   "id": "67e67c77-30b2-498a-9182-56257cf18014",
   "metadata": {},
   "outputs": [],
   "source": [
    "df['cold_start_cost'] = df['Cold_Start'] * df['Delay (s)'] * cold_start_penalty\n",
    "df['prewarm_cost'] = df['prewarm_decision'] * prewarm_cost\n",
    "df['net_savings'] = df['cold_start_cost'] - df['prewarm_cost']"
   ]
  },
  {
   "cell_type": "code",
   "execution_count": 11,
   "id": "2dd30e2d-00b8-4b4c-9c22-fb7d7598dea0",
   "metadata": {},
   "outputs": [],
   "source": [
    "# Save output\n",
    "df.to_csv('../results/prewarming_simulation.csv', index=False)"
   ]
  },
  {
   "cell_type": "code",
   "execution_count": 12,
   "id": "3c99335f-0302-4141-b20e-0de701341b65",
   "metadata": {},
   "outputs": [],
   "source": [
    "# Summary\n",
    "total = len(df)\n",
    "actual_cold_starts = df['Cold_Start'].sum()\n",
    "predicted_cold_starts = (df['cold_start_proba'] > 0.6).sum()\n",
    "prewarm_actions = df['prewarm_decision'].sum()"
   ]
  },
  {
   "cell_type": "code",
   "execution_count": 13,
   "id": "c594739e-84d3-43d3-a3dc-111f254e07fb",
   "metadata": {},
   "outputs": [],
   "source": [
    "total_cold_cost = df['cold_start_cost'].sum()\n",
    "total_prewarm_cost = df['prewarm_cost'].sum()\n",
    "total_savings = df['net_savings'].sum()"
   ]
  },
  {
   "cell_type": "code",
   "execution_count": 14,
   "id": "8847d17c-090a-431a-ac12-b44ead532838",
   "metadata": {},
   "outputs": [
    {
     "name": "stdout",
     "output_type": "stream",
     "text": [
      "=== Summary ===\n",
      "Total Requests: 10630\n",
      "Actual Cold Starts: 317\n",
      "Predicted Cold Starts (>60% prob): 157\n",
      "Prewarming Actions Taken: 370\n",
      "Total Cold Start Cost: $1585.22\n",
      "Total Prewarming Cost: $0.74\n",
      "Net Cost Savings: $1584.48\n"
     ]
    }
   ],
   "source": [
    "print(\"=== Summary ===\")\n",
    "print(f\"Total Requests: {total}\")\n",
    "print(f\"Actual Cold Starts: {actual_cold_starts}\")\n",
    "print(f\"Predicted Cold Starts (>60% prob): {predicted_cold_starts}\")\n",
    "print(f\"Prewarming Actions Taken: {prewarm_actions}\")\n",
    "print(f\"Total Cold Start Cost: ${total_cold_cost:.2f}\")\n",
    "print(f\"Total Prewarming Cost: ${total_prewarm_cost:.2f}\")\n",
    "print(f\"Net Cost Savings: ${total_savings:.2f}\")"
   ]
  }
 ],
 "metadata": {
  "kernelspec": {
   "display_name": "Python [conda env:base] *",
   "language": "python",
   "name": "conda-base-py"
  },
  "language_info": {
   "codemirror_mode": {
    "name": "ipython",
    "version": 3
   },
   "file_extension": ".py",
   "mimetype": "text/x-python",
   "name": "python",
   "nbconvert_exporter": "python",
   "pygments_lexer": "ipython3",
   "version": "3.12.7"
  }
 },
 "nbformat": 4,
 "nbformat_minor": 5
}
