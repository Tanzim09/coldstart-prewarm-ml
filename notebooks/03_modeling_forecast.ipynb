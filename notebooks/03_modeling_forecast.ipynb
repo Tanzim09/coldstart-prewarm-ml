{
 "cells": [
  {
   "cell_type": "code",
   "execution_count": 1,
   "id": "d11967bb-27cd-4904-9c74-7a54bdee7c76",
   "metadata": {},
   "outputs": [],
   "source": [
    "import pandas as pd\n",
    "import numpy as np\n",
    "import matplotlib.pyplot as plt\n",
    "import seaborn as sns"
   ]
  },
  {
   "cell_type": "code",
   "execution_count": 2,
   "id": "858e0041-e233-4ac1-b5fa-92a563252761",
   "metadata": {},
   "outputs": [],
   "source": [
    "from sklearn.model_selection import train_test_split\n",
    "from sklearn.ensemble import RandomForestClassifier, RandomForestRegressor\n",
    "from sklearn.metrics import classification_report, confusion_matrix, mean_squared_error"
   ]
  },
  {
   "cell_type": "code",
   "execution_count": 3,
   "id": "ebf8ffb7-4ab4-4a66-9f7e-daf8ea915192",
   "metadata": {},
   "outputs": [],
   "source": [
    "df = pd.read_csv(r\"C:\\Users\\tanzi\\Personal Projects\\cold_start_project_498r\\data\\clean_data.csv\")\n",
    "cluster_df = pd.read_csv(r\"C:\\Users\\tanzi\\Personal Projects\\cold_start_project_498r\\data\\clustered_time_patterns.csv\")"
   ]
  },
  {
   "cell_type": "code",
   "execution_count": 4,
   "id": "e56cf681-9d88-4057-9ef8-bfe4e9dd0f3a",
   "metadata": {},
   "outputs": [],
   "source": [
    "# Merge cluster info back to original data\n",
    "df = df.merge(cluster_df[['hour', 'dayofweek', 'time_bucket', 'cluster']],\n",
    "              on=['hour', 'dayofweek', 'time_bucket'], how='left')"
   ]
  },
  {
   "cell_type": "code",
   "execution_count": 5,
   "id": "704945d5-2826-498c-b6ba-41a7d7ffb937",
   "metadata": {},
   "outputs": [],
   "source": [
    "# Features and targets\n",
    "features = ['hour', 'dayofweek', 'is_weekend', 'cluster']\n",
    "X = df[features]"
   ]
  },
  {
   "cell_type": "code",
   "execution_count": 6,
   "id": "ce1bff5b-9fdc-446e-9409-dee97a3ad54b",
   "metadata": {},
   "outputs": [],
   "source": [
    "# Cold start prediction\n",
    "y_class = df['Cold_Start']\n",
    "X_train, X_test, y_train, y_test = train_test_split(X, y_class, test_size=0.2, random_state=42)"
   ]
  },
  {
   "cell_type": "code",
   "execution_count": 7,
   "id": "f8f8e22d-1cec-4a57-a82d-95937708a97b",
   "metadata": {},
   "outputs": [],
   "source": [
    "clf = RandomForestClassifier(n_estimators=100, random_state=42)\n",
    "clf.fit(X_train, y_train)\n",
    "y_pred = clf.predict(X_test)"
   ]
  },
  {
   "cell_type": "code",
   "execution_count": 8,
   "id": "b5b4d13d-be77-4baf-ab8b-dfd9272b3620",
   "metadata": {},
   "outputs": [
    {
     "name": "stdout",
     "output_type": "stream",
     "text": [
      "=== Cold Start Classification Report ===\n",
      "              precision    recall  f1-score   support\n",
      "\n",
      "           0       0.99      0.99      0.99      2059\n",
      "           1       0.62      0.55      0.58        67\n",
      "\n",
      "    accuracy                           0.98      2126\n",
      "   macro avg       0.80      0.77      0.78      2126\n",
      "weighted avg       0.97      0.98      0.97      2126\n",
      "\n",
      "Confusion Matrix:\n",
      "[[2036   23]\n",
      " [  30   37]]\n"
     ]
    }
   ],
   "source": [
    "print(\"=== Cold Start Classification Report ===\")\n",
    "print(classification_report(y_test, y_pred))\n",
    "print(\"Confusion Matrix:\")\n",
    "print(confusion_matrix(y_test, y_pred))"
   ]
  },
  {
   "cell_type": "code",
   "execution_count": 9,
   "id": "10ca2593-257c-429b-af9a-248432ea0ee9",
   "metadata": {},
   "outputs": [],
   "source": [
    "# Delay prediction (regression)\n",
    "y_reg = df['Delay (s)']\n",
    "X_train_r, X_test_r, y_train_r, y_test_r = train_test_split(X, y_reg, test_size=0.2, random_state=42)"
   ]
  },
  {
   "cell_type": "code",
   "execution_count": 10,
   "id": "1b6300d7-ba88-40b2-bff9-3f8bd372403f",
   "metadata": {},
   "outputs": [],
   "source": [
    "reg = RandomForestRegressor(n_estimators=100, random_state=42)\n",
    "reg.fit(X_train_r, y_train_r)\n",
    "y_pred_r = reg.predict(X_test_r)"
   ]
  },
  {
   "cell_type": "code",
   "execution_count": 11,
   "id": "0c860e71-5c82-4a87-a8aa-eb49bfee3b3f",
   "metadata": {},
   "outputs": [],
   "source": [
    "mse = mean_squared_error(y_test_r, y_pred_r)\n",
    "rmse = np.sqrt(mse)"
   ]
  },
  {
   "cell_type": "code",
   "execution_count": 12,
   "id": "a00330c3-7a29-4cec-b3c0-93f47a61fd62",
   "metadata": {},
   "outputs": [
    {
     "name": "stdout",
     "output_type": "stream",
     "text": [
      "\n",
      "=== Delay Regression ===\n",
      "RMSE: 817.08 seconds\n"
     ]
    }
   ],
   "source": [
    "print(\"\\n=== Delay Regression ===\")\n",
    "print(f\"RMSE: {rmse:.2f} seconds\")"
   ]
  },
  {
   "cell_type": "code",
   "execution_count": 13,
   "id": "56c2d1b3-65b5-450b-92f0-4560c77bcdba",
   "metadata": {},
   "outputs": [
    {
     "data": {
      "text/plain": [
       "['../models/delay_predictor.pkl']"
      ]
     },
     "execution_count": 13,
     "metadata": {},
     "output_type": "execute_result"
    }
   ],
   "source": [
    "import os\n",
    "import joblib\n",
    "\n",
    "# Make sure the directory exists\n",
    "os.makedirs(\"../models\", exist_ok=True)\n",
    "\n",
    "# Save both models\n",
    "joblib.dump(clf, '../models/cold_start_classifier.pkl')\n",
    "joblib.dump(reg, '../models/delay_predictor.pkl')"
   ]
  }
 ],
 "metadata": {
  "kernelspec": {
   "display_name": "Python [conda env:base] *",
   "language": "python",
   "name": "conda-base-py"
  },
  "language_info": {
   "codemirror_mode": {
    "name": "ipython",
    "version": 3
   },
   "file_extension": ".py",
   "mimetype": "text/x-python",
   "name": "python",
   "nbconvert_exporter": "python",
   "pygments_lexer": "ipython3",
   "version": "3.12.7"
  }
 },
 "nbformat": 4,
 "nbformat_minor": 5
}
